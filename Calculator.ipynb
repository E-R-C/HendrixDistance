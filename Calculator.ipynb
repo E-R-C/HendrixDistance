{
<<<<<<< HEAD
 "cells": [],
 "metadata": {},
=======
 "cells": [
  {
   "cell_type": "code",
   "execution_count": 9,
   "metadata": {},
   "outputs": [],
   "source": [
    "import pandas as pd\n",
    "import urllib.request\n",
    "import json\n",
    "import numpy as np\n"
   ]
  },
  {
   "cell_type": "code",
   "execution_count": 1,
   "metadata": {
    "collapsed": true
   },
   "outputs": [],
   "source": [
    "## takes in addresses Unfiltered\n",
    "## Returns List of distances\n",
    "def getDistances(listOfAddresses):\n",
    "    BASESTRING = \"https://maps.googleapis.com/maps/api/distancematrix/json?&origins=\"\n",
    "    DESTINATION = \"&destinations=1600+Washington+Ave,+Conway,+AR+72032\"\n",
    "    addressesBefore = []\n",
    "    for address in listOfAddresses:\n",
    "        addressesBefore.append(address.replace(\" \", \"+\").replace(\"#\",\"\").replace(\".\",\"\"))\n",
    "    addresses_string = \"|\".join(addressesBefore)\n",
    "    output_string = urllib.request.urlopen(BASESTRING + addresses_string + DESTINATION, ).read().decode(\"UTF-8\")\n",
    "    output_json = json.loads(output_string)[\"rows\"]\n",
    "    result = []\n",
    "    for i in range(len(output_json)):\n",
    "        ## 0.000621371 is the google given distance for meters to Miles\n",
    "        if('distance' not in output_json[i][\"elements\"][0]):\n",
    "            result.append(0)\n",
    "        else:\n",
    "            result.append(output_json[i][\"elements\"][0][\"distance\"][\"value\"] * 0.000621371)\n",
    "    return result\n",
    "\n",
    "## Adds a column in place\n",
    "## Returns nothing\n",
    "def addColumn(title, listValues, dataFrame):\n",
    "    alteredList = np.asarray(listValues)\n",
    "    dataFrame[title] = alteredList\n"
   ]
  },
  {
   "cell_type": "code",
   "execution_count": null,
   "metadata": {},
   "outputs": [],
   "source": [
    "df = pd.read_csv(\"addresses.csv\") ## Your data file"
   ]
  },
  {
   "cell_type": "code",
   "execution_count": 12,
   "metadata": {
    "collapsed": true
   },
   "outputs": [],
   "source": [
    "df[\"TemporaryAddress\"] = df[\"Address 1\"] + \" \" + df[\"City\"] + \" \" + df[\"State\"] + \" \" +  df[\"Zip Code\"]"
   ]
  },
  {
   "cell_type": "code",
   "execution_count": null,
   "metadata": {
    "scrolled": true
   },
   "outputs": [],
   "source": [
    "distances = []\n",
    "delimeter = 50\n",
    "counter = 0\n",
    "while counter < len(df):  \n",
    "    listOfAddresses = df[\"TemporaryAddress\"][counter:counter + delimeter] ## Whatever the column address is\n",
    "#     print(len(df[\"TemporaryAddress\"][counter:counter + 50]))\n",
    "    output = getDistances(listOfAddresses)\n",
    "    distances += output\n",
    "    counter += delimeter\n",
    "addColumn(\"Distances (miles)\", distances, df)"
   ]
  },
  {
   "cell_type": "code",
   "execution_count": 35,
   "metadata": {},
   "outputs": [],
   "source": [
    "f = open(\"destinations.csv\", \"w\")\n",
    "df.to_csv(f)"
   ]
  },
  {
   "cell_type": "code",
   "execution_count": null,
   "metadata": {
    "collapsed": true
   },
   "outputs": [],
   "source": []
  }
 ],
 "metadata": {
  "anaconda-cloud": {},
  "kernelspec": {
   "display_name": "Python 3",
   "language": "python",
   "name": "python3"
  },
  "language_info": {
   "codemirror_mode": {
    "name": "ipython",
    "version": 3
   },
   "file_extension": ".py",
   "mimetype": "text/x-python",
   "name": "python",
   "nbconvert_exporter": "python",
   "pygments_lexer": "ipython3",
   "version": "3.6.1"
  }
 },
>>>>>>> 08d3e0b... Calculator
 "nbformat": 4,
 "nbformat_minor": 2
}
